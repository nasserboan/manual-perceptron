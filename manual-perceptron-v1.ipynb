{
 "cells": [
  {
   "cell_type": "code",
   "execution_count": 4,
   "metadata": {},
   "outputs": [],
   "source": [
    "import numpy as np"
   ]
  },
  {
   "cell_type": "markdown",
   "metadata": {},
   "source": [
    "![perceptron](perceptron.png)"
   ]
  },
  {
   "cell_type": "code",
   "execution_count": 205,
   "metadata": {},
   "outputs": [],
   "source": [
    "class Perceptron():\n",
    "    \n",
    "    def __init__(self, no_of_inputs, threshold = 100, learning_rate = 0.01):\n",
    "        \n",
    "        ## number of epochs\n",
    "        self.threshold = threshold\n",
    "        ## learning rate\n",
    "        self.learning_rate = learning_rate\n",
    "        ## initializing weights (no_of_inputs is the size of the input vector)\n",
    "        self.weights = np.zeros(no_of_inputs + 1)\n",
    "    \n",
    "    def predict(self, inputs):\n",
    "        \n",
    "        ## dot product of inputs and weights (summed bias)\n",
    "        print(f'  PESOS : {self.weights[1:]}')\n",
    "        \n",
    "        summation = np.dot(inputs, self.weights[1:]) + self.weights[0]\n",
    "        \n",
    "        print(f'  RESULTADO SUMMATION : {summation}')\n",
    "        \n",
    "        ## stepwise activation function\n",
    "        if summation >= 0:\n",
    "            activation = 1\n",
    "        else:\n",
    "            activation = 0\n",
    "        \n",
    "        return activation\n",
    "        \n",
    "    def train(self, training_inputs, labels):\n",
    "        \n",
    "        ## training for {self.threshold} epochs\n",
    "        for x in range(self.threshold):\n",
    "            \n",
    "            print(f'Iniciando a época {x+1}\\n')\n",
    "            \n",
    "            for inputs, label in zip(training_inputs,labels):\n",
    "                \n",
    "                original_weights = self.weights[1:]\n",
    "                original_bias = self.weights[0]\n",
    "                \n",
    "                print(f'  O input é {inputs} e a label é {label};')\n",
    "                \n",
    "                ## forward pass\n",
    "                \n",
    "                prediction = self.predict(inputs)\n",
    "                \n",
    "                print(f'  A prediction é {prediction};\\n')\n",
    "                \n",
    "                ## updating the weights\n",
    "                \n",
    "                print(f'  Pesos antes: {self.weights[1:]}  Erro: {label-prediction}')\n",
    "                     \n",
    "                self.weights[1:] += self.learning_rate * (label - prediction) * inputs \n",
    "                \n",
    "                print(f'  Pesos depois: {self.weights[1:]}\\n')\n",
    "                \n",
    "                ## updating the bias\n",
    "                \n",
    "                print(f'  BIAS antes: {self.weights[0]}')\n",
    "                \n",
    "                self.weights[0] += self.learning_rate * (label - prediction)\n",
    "                \n",
    "                print(f'  BIAS antes: {self.weights[0]}\\n\\n --- x --- x --- \\n')\n",
    "            \n",
    "            print(f'Terminando a época {x+1}\\n')\n",
    "            "
   ]
  },
  {
   "cell_type": "code",
   "execution_count": 206,
   "metadata": {},
   "outputs": [],
   "source": [
    "perc = Perceptron(5,threshold=2,learning_rate=1)"
   ]
  },
  {
   "cell_type": "code",
   "execution_count": 207,
   "metadata": {},
   "outputs": [
    {
     "data": {
      "text/plain": [
       "array([[ 1. ,  1. ,  3. ,  2. ,  1.1],\n",
       "       [ 1. ,  1. ,  5. ,  6. ,  1.2],\n",
       "       [ 1. ,  1. ,  2. ,  2. , 10. ]])"
      ]
     },
     "execution_count": 207,
     "metadata": {},
     "output_type": "execute_result"
    }
   ],
   "source": [
    "training_inputs = np.array([[1,1,3,2,1.1],[1,1,5,6,1.2],[1,1,2,2,10]])\n",
    "training_inputs"
   ]
  },
  {
   "cell_type": "code",
   "execution_count": 208,
   "metadata": {},
   "outputs": [],
   "source": [
    "labels = np.array([1,1,0])"
   ]
  },
  {
   "cell_type": "code",
   "execution_count": 209,
   "metadata": {},
   "outputs": [
    {
     "name": "stdout",
     "output_type": "stream",
     "text": [
      "Iniciando a época 1\n",
      "\n",
      "  O input é [1.  1.  3.  2.  1.1] e a label é 1;\n",
      "  PESOS : [0. 0. 0. 0. 0.]\n",
      "  RESULTADO SUMMATION : 0.0\n",
      "  A prediction é 1;\n",
      "\n",
      "  Pesos antes: [0. 0. 0. 0. 0.]  Erro: 0\n",
      "  Pesos depois: [0. 0. 0. 0. 0.]\n",
      "\n",
      "  BIAS antes: 0.0\n",
      "  BIAS antes: 0.0\n",
      "\n",
      " --- x --- x --- \n",
      "\n",
      "  O input é [1.  1.  5.  6.  1.2] e a label é 1;\n",
      "  PESOS : [0. 0. 0. 0. 0.]\n",
      "  RESULTADO SUMMATION : 0.0\n",
      "  A prediction é 1;\n",
      "\n",
      "  Pesos antes: [0. 0. 0. 0. 0.]  Erro: 0\n",
      "  Pesos depois: [0. 0. 0. 0. 0.]\n",
      "\n",
      "  BIAS antes: 0.0\n",
      "  BIAS antes: 0.0\n",
      "\n",
      " --- x --- x --- \n",
      "\n",
      "  O input é [ 1.  1.  2.  2. 10.] e a label é 0;\n",
      "  PESOS : [0. 0. 0. 0. 0.]\n",
      "  RESULTADO SUMMATION : 0.0\n",
      "  A prediction é 1;\n",
      "\n",
      "  Pesos antes: [0. 0. 0. 0. 0.]  Erro: -1\n",
      "  Pesos depois: [ -1.  -1.  -2.  -2. -10.]\n",
      "\n",
      "  BIAS antes: 0.0\n",
      "  BIAS antes: -1.0\n",
      "\n",
      " --- x --- x --- \n",
      "\n",
      "Terminando a época 1\n",
      "\n",
      "Iniciando a época 2\n",
      "\n",
      "  O input é [1.  1.  3.  2.  1.1] e a label é 1;\n",
      "  PESOS : [ -1.  -1.  -2.  -2. -10.]\n",
      "  RESULTADO SUMMATION : -24.0\n",
      "  A prediction é 0;\n",
      "\n",
      "  Pesos antes: [ -1.  -1.  -2.  -2. -10.]  Erro: 1\n",
      "  Pesos depois: [ 0.   0.   1.   0.  -8.9]\n",
      "\n",
      "  BIAS antes: -1.0\n",
      "  BIAS antes: 0.0\n",
      "\n",
      " --- x --- x --- \n",
      "\n",
      "  O input é [1.  1.  5.  6.  1.2] e a label é 1;\n",
      "  PESOS : [ 0.   0.   1.   0.  -8.9]\n",
      "  RESULTADO SUMMATION : -5.68\n",
      "  A prediction é 0;\n",
      "\n",
      "  Pesos antes: [ 0.   0.   1.   0.  -8.9]  Erro: 1\n",
      "  Pesos depois: [ 1.   1.   6.   6.  -7.7]\n",
      "\n",
      "  BIAS antes: 0.0\n",
      "  BIAS antes: 1.0\n",
      "\n",
      " --- x --- x --- \n",
      "\n",
      "  O input é [ 1.  1.  2.  2. 10.] e a label é 0;\n",
      "  PESOS : [ 1.   1.   6.   6.  -7.7]\n",
      "  RESULTADO SUMMATION : -50.0\n",
      "  A prediction é 0;\n",
      "\n",
      "  Pesos antes: [ 1.   1.   6.   6.  -7.7]  Erro: 0\n",
      "  Pesos depois: [ 1.   1.   6.   6.  -7.7]\n",
      "\n",
      "  BIAS antes: 1.0\n",
      "  BIAS antes: 1.0\n",
      "\n",
      " --- x --- x --- \n",
      "\n",
      "Terminando a época 2\n",
      "\n"
     ]
    }
   ],
   "source": [
    "perc.train(training_inputs = training_inputs ,labels = labels)"
   ]
  },
  {
   "cell_type": "code",
   "execution_count": 199,
   "metadata": {},
   "outputs": [
    {
     "name": "stdout",
     "output_type": "stream",
     "text": [
      "PESOS : [ 0.   0.   3.   0.  -8.7]\n",
      "RESULTADO SUMMATION : -0.8700000000000001\n"
     ]
    },
    {
     "data": {
      "text/plain": [
       "0"
      ]
     },
     "execution_count": 199,
     "metadata": {},
     "output_type": "execute_result"
    }
   ],
   "source": [
    "perc.predict(np.array([0,0,0,1,0.1]))"
   ]
  }
 ],
 "metadata": {
  "kernelspec": {
   "display_name": "Python 3.7.5 64-bit ('base': conda)",
   "language": "python",
   "name": "python37564bitbaseconda1a5ffbacdca64cf4afc92f2f5ef3faed"
  },
  "language_info": {
   "codemirror_mode": {
    "name": "ipython",
    "version": 3
   },
   "file_extension": ".py",
   "mimetype": "text/x-python",
   "name": "python",
   "nbconvert_exporter": "python",
   "pygments_lexer": "ipython3",
   "version": "3.7.5"
  }
 },
 "nbformat": 4,
 "nbformat_minor": 4
}
